{
 "cells": [
  {
   "cell_type": "code",
   "execution_count": 1,
   "metadata": {},
   "outputs": [
    {
     "name": "stdout",
     "output_type": "stream",
     "text": [
      "提示：当前环境pandas版本为0.25，get_price与get_fundamentals_continuously接口panel参数将固定为False\n",
      "注意：0.25以上版本pandas不支持panel，如使用该数据结构和相关函数请注意修改\n",
      "auth success \n"
     ]
    }
   ],
   "source": [
    "from jqdatasdk import *\n",
    "auth('用户名','密码')  #输入聚宽（“用户名”，“密码”）\n",
    "import pandas as pd\n",
    "from pandas import Series, DataFrame\n",
    "import numpy as np\n",
    "from time import process_time"
   ]
  },
  {
   "cell_type": "code",
   "execution_count": 29,
   "metadata": {},
   "outputs": [],
   "source": [
    "#大家只用运行下前三个cell，然后按照第四块去操作就可以了\n",
    "def get_stock_list_and_dates():\n",
    "    #获取所有交易日（2019年7月24日到2014年7月24日），我的想法是这五年为样本内数据，用最近这一年（2019.07-2020.07）做样本外检测\n",
    "    global dates_2014_2019_0724,stock_list\n",
    "    dates = pd.read_csv(\"all_trade_days_10yr.csv\",index_col=0,parse_dates=True)\n",
    "    stock_dates = pd.DatetimeIndex(dates[\"0\"])\n",
    "    dates_descending = pd.DataFrame(stock_dates.sort_values(ascending=False))\n",
    "    dates_2014_2019 = dates_descending[(dates_descending[\"0\"]>= '2014-07-24 00:00:00')&(dates_descending[\"0\"]<= '2019-07-24 00:00:00')]\n",
    "    dates_2014_2019_0724 = pd.DatetimeIndex(dates_2014_2019.reset_index(drop = True)[\"0\"])\n",
    "    #获取19年0724日已上市的所有股票代码（csv里有19年0724前上市的所有股票基本信息）\n",
    "    stock_list = pd.read_csv(\"stock_basic_info_20190724.csv\",index_col=0).index   "
   ]
  },
  {
   "cell_type": "code",
   "execution_count": 30,
   "metadata": {},
   "outputs": [],
   "source": [
    "def get_factors_data(start_day,end_day):\n",
    "    data_empty_head = pd.DataFrame(columns=['day','code','capitalization','circulating_cap','market_cap','circulating_market_cap','turnover_ratio','pe_ratio','pe_ratio_lyr','pb_ratio','ps_ratio','pcf_ratio','eps','roe','inc_return','roa','net_profit_margin','gross_profit_margin','expense_to_total_revenue','operation_profit_to_total_revenue','net_profit_to_total_revenue','operating_expense_to_total_revenue','ga_expense_to_total_revenue','financing_expense_to_total_revenue','operating_profit_to_profit','invesment_profit_to_profit','adjusted_profit_to_profit','goods_sale_and_service_to_revenue','ocf_to_revenue','ocf_to_operating_profit','inc_total_revenue_year_on_year','inc_total_revenue_annual','inc_revenue_year_on_year','inc_revenue_annual','inc_operation_profit_year_on_year','inc_operation_profit_annual','inc_net_profit_year_on_year','inc_net_profit_annual','inc_net_profit_to_shareholders_year_on_year','inc_net_profit_to_shareholders_annual'])\n",
    "    data_start_end = data_empty_head.copy()\n",
    "    T0 = time.time()\n",
    "    for day in dates_2014_2019_0724[start_day:end_day+1]:     \n",
    "            q = query(\n",
    "                            valuation.capitalization,valuation.circulating_cap,valuation.market_cap, \n",
    "                            valuation.circulating_market_cap,valuation.turnover_ratio,valuation.pe_ratio, \n",
    "                            valuation.pe_ratio_lyr,valuation.pb_ratio,valuation.ps_ratio, \n",
    "                            valuation.pcf_ratio,indicator.eps,indicator.roe, \n",
    "                            indicator.inc_return,indicator.roa,indicator.net_profit_margin, \n",
    "                            indicator.gross_profit_margin,indicator.expense_to_total_revenue,indicator.operation_profit_to_total_revenue, \n",
    "                            indicator.net_profit_to_total_revenue,indicator.operating_expense_to_total_revenue,indicator.ga_expense_to_total_revenue, \n",
    "                            indicator.financing_expense_to_total_revenue,indicator.operating_profit_to_profit,indicator.invesment_profit_to_profit, \n",
    "                            indicator.adjusted_profit_to_profit,indicator.goods_sale_and_service_to_revenue,indicator.ocf_to_revenue, \n",
    "                            indicator.ocf_to_operating_profit,indicator.inc_total_revenue_year_on_year,indicator.inc_total_revenue_annual, \n",
    "                            indicator.inc_revenue_year_on_year,indicator.inc_revenue_annual,indicator.inc_operation_profit_year_on_year, \n",
    "                            indicator.inc_operation_profit_annual,indicator.inc_net_profit_year_on_year,indicator.inc_net_profit_annual, \n",
    "                            indicator.inc_net_profit_to_shareholders_year_on_year,indicator.inc_net_profit_to_shareholders_annual\n",
    "                        ).filter(valuation.code.in_(stock_list))\n",
    "\n",
    "            one_day_data = get_fundamentals_continuously(q, end_date=day, count=1)\n",
    "            data_start_end = pd.concat([data_start_end,one_day_data])\n",
    "    T1 = time.time()\n",
    "    print(f\"Time used:{T1-T0}\")\n",
    "    data_start_end.to_csv(f\"data_{start_day}_{end_day}.csv\")"
   ]
  },
  {
   "cell_type": "code",
   "execution_count": null,
   "metadata": {},
   "outputs": [],
   "source": [
    "#输入开始的天数和结束的天数如 get_factors_data(401,600) 大概5-10分钟左右文件就自动保存在notebook所在目录下了 
    "#完成后把文件上传到github空间即可,文件名不用改，文件可能比较大 \n",
    "get_stock_list_and_dates()\n",
    "get_factors_data(start_day,end_day) "
   ]
  }
 ],
 "metadata": {
  "kernelspec": {
   "display_name": "Python 3",
   "language": "python",
   "name": "python3"
  },
  "language_info": {
   "codemirror_mode": {
    "name": "ipython",
    "version": 3
   },
   "file_extension": ".py",
   "mimetype": "text/x-python",
   "name": "python",
   "nbconvert_exporter": "python",
   "pygments_lexer": "ipython3",
   "version": "3.7.7"
  }
 },
 "nbformat": 4,
 "nbformat_minor": 4
}
